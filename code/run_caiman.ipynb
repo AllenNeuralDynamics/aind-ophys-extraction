{
 "cells": [
  {
   "cell_type": "code",
   "execution_count": 1,
   "id": "8bee50dd-8b3c-4143-959d-541bf1a11766",
   "metadata": {
    "tags": []
   },
   "outputs": [
    {
     "name": "stderr",
     "output_type": "stream",
     "text": [
      "2025-01-27 19:10:35.658550: I tensorflow/core/platform/cpu_feature_guard.cc:193] This TensorFlow binary is optimized with oneAPI Deep Neural Network Library (oneDNN) to use the following CPU instructions in performance-critical operations:  SSE4.1 SSE4.2 AVX AVX2 AVX512F FMA\n",
      "To enable them in other operations, rebuild TensorFlow with the appropriate compiler flags.\n"
     ]
    }
   ],
   "source": [
    "import logging, sys\n",
    "logging.disable(sys.maxsize)\n",
    "import warnings\n",
    "warnings.filterwarnings('ignore')\n",
    "\n",
    "from types import SimpleNamespace\n",
    "from extraction import *\n",
    "import scipy.sparse as sp\n",
    "from aind_ophys_utils.summary_images import pnr_image\n",
    "from multiprocessing.pool import Pool"
   ]
  },
  {
   "cell_type": "code",
   "execution_count": 2,
   "id": "a0601085-36ba-497f-86cd-84911313e468",
   "metadata": {
    "tags": []
   },
   "outputs": [],
   "source": [
    "args = SimpleNamespace(\n",
    "        input_dir=\"../data/\",\n",
    "        output_dir=\"../results/\",\n",
    "        tmp_dir=\"/scratch\",\n",
    "        diameter=0,\n",
    "        anatomical_only=2,\n",
    "        denoise=False,\n",
    "        cellprob_threshold=0.0,\n",
    "        flow_threshold=1.5,\n",
    "        spatial_hp_cp=0,\n",
    "        pretrained_model=\"cyto\",\n",
    "        neuropil=\"CNMF\",\n",
    "        rf=100, stride=20, K=20, merge_thr=.6, ssub=2, tsub=2, normalize_init=True, init='greedy_roi',\n",
    "        contour_video=False,\n",
    "    )"
   ]
  },
  {
   "cell_type": "code",
   "execution_count": 3,
   "id": "5e1e320d-fb1b-48db-84ba-ed210ca36494",
   "metadata": {
    "tags": []
   },
   "outputs": [],
   "source": [
    "    output_dir = Path(args.output_dir).resolve()\n",
    "    input_dir = Path(args.input_dir).resolve()\n",
    "    tmp_dir = Path(args.tmp_dir).resolve()\n",
    "    session, data_description, subject = get_metdata(input_dir)\n",
    "    subject_id = subject.get(\"subject_id\", \"\")\n",
    "    name = data_description.get(\"name\", \"\")\n",
    "    setup_logging(\"aind-ophys-extraction-suite2p\", mouse_id=subject_id, session_name=name)\n",
    "    if next(input_dir.rglob(\"*decrosstalk.h5\"), \"\"):\n",
    "        input_fn = next(input_dir.rglob(\"*decrosstalk.h5\"))\n",
    "    else:\n",
    "        input_fn = next(input_dir.rglob(\"*registered.h5\"))\n",
    "    parent_directory = input_fn.parent\n",
    "    if session is not None and \"Bergamo\" in session[\"rig_id\"]:\n",
    "        motion_corrected_fn = bergamo_segmentation(input_fn, session, temp_dir=tmp_dir)\n",
    "    else:\n",
    "        motion_corrected_fn = input_fn\n",
    "    if not data_description or \"multiplane\" in data_description.get(\"name\", \"\"):\n",
    "        unique_id = motion_corrected_fn.parent.parent.name\n",
    "    else:\n",
    "        unique_id = \"_\".join(str(data_description[\"name\"]).split(\"_\")[-3:])\n",
    "\n",
    "    frame_rate = get_frame_rate(session)\n",
    "\n",
    "    output_dir = make_output_directory(output_dir, unique_id)"
   ]
  },
  {
   "cell_type": "code",
   "execution_count": 4,
   "id": "eac32c5e-ed2e-44d7-9b83-95e9161e2024",
   "metadata": {
    "tags": []
   },
   "outputs": [],
   "source": [
    "def format_caiman_output(e, cnmfe):\n",
    "    assert np.allclose(linalg.norm(e.A, 2, 0), 1)\n",
    "    traces_corrected = (e.C + e.YrA).astype(\"f4\")\n",
    "    if cnmfe: \n",
    "        traces_corrected += e.A.T.dot(e.b0)[:, None]\n",
    "        e.b, e.fs = None, None  # required patch for next line\n",
    "        traces_neuropil = e.A.astype(\"f4\").T.dot(e.compute_background(caiman.movie(movie).to2DPixelxTime()))\n",
    "    else:\n",
    "        traces_neuropil = e.A.T.dot(e.b).dot(e.f).astype(\"f4\")\n",
    "        traces_corrected += .8 * traces_neuropil\n",
    "    traces_roi = (e.C + e.YrA + traces_neuropil).astype(\"f4\")\n",
    "    # convert ROIs to sparse COO 3D-tensor  a la https://sparse.pydata.org/en/stable/construct.html\n",
    "    data = []\n",
    "    coords = []\n",
    "    for i in range(e.A.shape[1]):\n",
    "        roi = coo_matrix(e.A[:,i].reshape(e.dims, order=\"F\").toarray(), dtype=\"f4\")\n",
    "        data.append(roi.data)\n",
    "        coords.append(np.array([i*np.ones(len(roi.data)), roi.row, roi.col], dtype=\"i2\"))\n",
    "    if len(data):\n",
    "        data = np.concatenate(data)\n",
    "        coords = np.hstack(coords)  \n",
    "    # TODO: save background, use caiman's classifier for iscell\n",
    "    neuropil_coords, iscell, keys = [[]] * 3\n",
    "    return traces_corrected, traces_neuropil, traces_roi, data, coords, neuropil_coords, iscell, keys "
   ]
  },
  {
   "cell_type": "code",
   "execution_count": 5,
   "id": "b08846fe-7d27-44b4-9a20-f84c7148bf18",
   "metadata": {
    "tags": []
   },
   "outputs": [
    {
     "name": "stdout",
     "output_type": "stream",
     "text": [
      "The number of pixels per process (n_pixels_per_process) is larger than the total number of pixels!! Decreasing suitably.\n",
      "The number of pixels per process (n_pixels_per_process) is larger than the total number of pixels!! Decreasing suitably.\n"
     ]
    }
   ],
   "source": [
    "    # def run_CaImAn(input_fn, unique_id, args):\n",
    "    os.environ['CAIMAN_TEMP'] = args.tmp_dir\n",
    "    cnmfe = args.neuropil.lower() == \"cnmf-e\"\n",
    "    \n",
    "    # create mmap file\n",
    "    with h5py.File(input_fn) as fin:\n",
    "        data = fin[\"data\"]\n",
    "        if data.nbytes < 1e9:\n",
    "            fname_new = caiman.save_memmap([str(input_fn)], var_name_hdf5='data',\n",
    "                                           order='C', base_name=unique_id)\n",
    "        else:\n",
    "            chunksize = 50\n",
    "            chunkfiles = [args.tmp_dir + f\"/chunk{k}.h5\" for k in range(0, data.shape[0], chunksize)]\n",
    "            def write_chunk(k):\n",
    "                with h5py.File(args.tmp_dir + f\"/chunk{k}.h5\", \"w\") as f:\n",
    "                    f.create_dataset('data', data=data[k:k+chunksize])\n",
    "            with Pool() as pool:\n",
    "                pool.map(write_chunk, range(0, data.shape[0],chunksize))\n",
    "                fname_new = caiman.save_memmap(chunkfiles, var_name_hdf5='data',\n",
    "                                           order='C', dview=pool, base_name=unique_id, n_chunks=16)\n",
    "                pool.map(os.remove, chunkfiles)  # remove temporary files       \n",
    "        \n",
    "    # now load the file\n",
    "    Yr, dims, T = caiman.load_memmap(fname_new)\n",
    "    images = np.reshape(Yr.T, [T] + list(dims), order='F') \n",
    "    # Set params\n",
    "    gSig = args.diameter / 2\n",
    "    params_dict={'fnames': fname_new,\n",
    "                'K': args.K,\n",
    "                'p': 1,\n",
    "                'nb': 0 if cnmfe else 1,\n",
    "                'rf': args.rf,\n",
    "                'stride': args.stride,\n",
    "                'only_init': cnmfe,\n",
    "                'gSig': (gSig, gSig),\n",
    "                'ssub': args.ssub,\n",
    "                'tsub': args.tsub,\n",
    "                'merge_thr': args.merge_thr,\n",
    "                'method_init': args.init,\n",
    "                'normalize_init': args.normalize_init}\n",
    "    opts = params.CNMFParams(params_dict=params_dict)\n",
    "    n_jobs = tmp if (tmp:=os.environ.get(\"CO_CPUS\")) is None else int(tmp)\n",
    "    with Pool(n_jobs) as pool:\n",
    "        cnm = cnmf.CNMF(n_processes=pool._processes, params=opts, dview=pool)\n",
    "        cnm.fit(images)\n",
    "    traces_corrected, traces_neuropil, traces_roi, data, coords, neuropil_coords, iscell, keys = format_caiman_output(cnm.estimates, cnmfe)"
   ]
  },
  {
   "cell_type": "code",
   "execution_count": null,
   "id": "e4e6e53c-e0b3-49f9-917a-34e6e835065e",
   "metadata": {},
   "outputs": [],
   "source": []
  }
 ],
 "metadata": {
  "kernelspec": {
   "display_name": "Python 3 (ipykernel)",
   "language": "python",
   "name": "python3"
  },
  "language_info": {
   "codemirror_mode": {
    "name": "ipython",
    "version": 3
   },
   "file_extension": ".py",
   "mimetype": "text/x-python",
   "name": "python",
   "nbconvert_exporter": "python",
   "pygments_lexer": "ipython3",
   "version": "3.10.12"
  }
 },
 "nbformat": 4,
 "nbformat_minor": 5
}
